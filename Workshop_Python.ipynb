{
  "nbformat": 4,
  "nbformat_minor": 0,
  "metadata": {
    "colab": {
      "provenance": [],
      "include_colab_link": true
    },
    "kernelspec": {
      "name": "python3",
      "display_name": "Python 3"
    },
    "language_info": {
      "name": "python"
    }
  },
  "cells": [
    {
      "cell_type": "markdown",
      "metadata": {
        "id": "view-in-github",
        "colab_type": "text"
      },
      "source": [
        "<a href=\"https://colab.research.google.com/github/hahahonline/Workshop_Python/blob/main/Workshop_Python.ipynb\" target=\"_parent\"><img src=\"https://colab.research.google.com/assets/colab-badge.svg\" alt=\"Open In Colab\"/></a>"
      ]
    },
    {
      "cell_type": "markdown",
      "source": [
        "# Notebook Python para Iniciantes\n",
        "\n",
        "Este notebook foi elaborado com carinho para fins acadêmicos, visando auxiliar na aprendizagem de Python para iniciantes. Sinta-se à vontade para explorar, aprender e, se desejar, copiar este conteúdo para seu próprio espaço no Google Colab.\n",
        "\n",
        "**Observação:** Lembre-se de sempre respeitar os princípios éticos e acadêmicos ao utilizar este material. Se possível, faça suas próprias contribuições e compartilhe o conhecimento!\n",
        "\n",
        "Aproveite sua jornada na programação com Python!\n",
        "\n",
        "***Colaborador: Markus Viana***"
      ],
      "metadata": {
        "id": "n7tdJsJh-vLZ"
      }
    },
    {
      "cell_type": "markdown",
      "source": [
        "# Dia 1 - Introdução ao Python"
      ],
      "metadata": {
        "id": "1SB2Mhii4Cjt"
      }
    },
    {
      "cell_type": "markdown",
      "source": [
        "## O que é Python?"
      ],
      "metadata": {
        "id": "ia7fQwOV4GI9"
      }
    },
    {
      "cell_type": "markdown",
      "source": [
        "Python é uma linguagem de programação de alto nível conhecida por sua simplicidade e legibilidade de código.\n",
        "\n",
        "### Sintaxe Limpa e Legibilidade\n",
        "\n",
        "Python utiliza uma sintaxe clara e legível, tornando-o ideal para programadores iniciantes.\n",
        "\n",
        "### Exemplos de Aplicações\n",
        "\n",
        "1. Desenvolvimento Web: Flask, Django.\n",
        "2. Ciência de Dados: Pandas, NumPy.\n",
        "3. Automação: Scripting, Automação de Tarefas.\n",
        "\n",
        "\n",
        "## Instalação do Python\n",
        "\n",
        "Para instalar o Python, siga os passos abaixo.\n",
        "\n",
        "### Instalação no Windows\n",
        "\n",
        "1. Baixe o instalador do Python em [python.org](https://www.python.org/downloads/).\n",
        "2. Execute o instalador e siga as instruções.\n",
        "\n",
        "### Instalação no MacOS\n",
        "\n",
        "1. Abra o terminal.\n",
        "2. Instale o [Homebrew](https://brew.sh/): `/bin/bash -c \"$(curl -fsSL https://raw.githubusercontent.com/Homebrew/install/HEAD/install.sh)\"`\n",
        "3. Instale o Python: `brew install python`\n",
        "\n",
        "### Instalação no Linux\n",
        "\n",
        "1. Abra o terminal.\n",
        "2. Use o gerenciador de pacotes da distribuição para instalar o Python.\n",
        "\n",
        "## Instalação do VSCode\n",
        "\n",
        "Visual Studio Code (VSCode) é uma IDE popular para Python.\n",
        "\n",
        "### Instalação no Windows\n",
        "\n",
        "1. Baixe o instalador do VSCode em [code.visualstudio.com](https://code.visualstudio.com/).\n",
        "2. Execute o instalador e siga as instruções.\n",
        "\n",
        "### Instalação no MacOS e Linux\n",
        "\n",
        "1. Abra o terminal.\n",
        "2. Instale o VSCode usando o Homebrew (MacOS) ou o gerenciador de pacotes (Linux).\n"
      ],
      "metadata": {
        "id": "ebOoIfwt4Mxd"
      }
    },
    {
      "cell_type": "markdown",
      "source": [
        "###Exemplo de código"
      ],
      "metadata": {
        "id": "-yTBKrf158XE"
      }
    },
    {
      "cell_type": "code",
      "source": [
        "#Vamos começar com um simples \"Hello, World!\" em Python.\n",
        "\n",
        "print(\"Hello, World!\")"
      ],
      "metadata": {
        "id": "G1wnFwpf5F8k",
        "colab": {
          "base_uri": "https://localhost:8080/"
        },
        "outputId": "f4a665ae-ce95-4b44-de80-870cabd13fb8"
      },
      "execution_count": null,
      "outputs": [
        {
          "output_type": "stream",
          "name": "stdout",
          "text": [
            "Hello, World!\n"
          ]
        }
      ]
    },
    {
      "cell_type": "markdown",
      "source": [
        "#Dia 2: Estruturas de Dados e Operadores Avançados"
      ],
      "metadata": {
        "id": "4mpUqwl06MBY"
      }
    },
    {
      "cell_type": "markdown",
      "source": [
        "##Listas, Tuplas e Dicionários em Python\n",
        "\n",
        "Listas, tuplas e dicionários são estruturas de dados fundamentais em Python."
      ],
      "metadata": {
        "id": "aiz2zBjO6Usz"
      }
    },
    {
      "cell_type": "markdown",
      "source": [
        "###Listas\n",
        "\n",
        "Listas são coleções ordenadas e mutáveis de itens. Elas são representadas por colchetes []."
      ],
      "metadata": {
        "id": "calJiZ8E6Y_i"
      }
    },
    {
      "cell_type": "code",
      "source": [
        "frutas = [\"maçã\", \"banana\", \"laranja\"]\n",
        "print(frutas)\n"
      ],
      "metadata": {
        "id": "vVe7LXq26aOW",
        "colab": {
          "base_uri": "https://localhost:8080/"
        },
        "outputId": "08073f2e-45be-41ec-f179-8ea55343c7d7"
      },
      "execution_count": null,
      "outputs": [
        {
          "output_type": "stream",
          "name": "stdout",
          "text": [
            "['maçã', 'banana', 'laranja']\n"
          ]
        }
      ]
    },
    {
      "cell_type": "markdown",
      "source": [
        "###Tuplas\n",
        "\n",
        "Tuplas são coleções ordenadas e imutáveis de itens. Elas são representadas por parênteses ()."
      ],
      "metadata": {
        "id": "OmtGF4666fUl"
      }
    },
    {
      "cell_type": "code",
      "source": [
        "coordenadas = (10, 20)\n",
        "print(coordenadas)\n"
      ],
      "metadata": {
        "id": "wYHFxQRt6ilH",
        "colab": {
          "base_uri": "https://localhost:8080/"
        },
        "outputId": "8bf719cc-4c87-4782-f7e6-f06d8594e3b5"
      },
      "execution_count": null,
      "outputs": [
        {
          "output_type": "stream",
          "name": "stdout",
          "text": [
            "(10, 20)\n"
          ]
        }
      ]
    },
    {
      "cell_type": "markdown",
      "source": [
        "###Dicionários\n",
        "\n",
        "Dicionários são coleções de pares chave-valor em Python. Eles são representados por chaves {}."
      ],
      "metadata": {
        "id": "7MDqqtpW6m2x"
      }
    },
    {
      "cell_type": "code",
      "source": [
        "pessoa = {\"nome\": \"João\", \"idade\": 25, \"cidade\": \"São Paulo\"}\n",
        "print(pessoa)\n"
      ],
      "metadata": {
        "id": "GyEUpCCq6rmL",
        "colab": {
          "base_uri": "https://localhost:8080/"
        },
        "outputId": "654e084b-fcb3-40f6-98b1-a25f291a0a7e"
      },
      "execution_count": null,
      "outputs": [
        {
          "output_type": "stream",
          "name": "stdout",
          "text": [
            "{'nome': 'João', 'idade': 25, 'cidade': 'São Paulo'}\n"
          ]
        }
      ]
    },
    {
      "cell_type": "markdown",
      "source": [
        "##Operadores Lógicos e de Pertencimento\n",
        "\n",
        "Operadores lógicos (and, or, not) e de pertencimento (in, not in) são essenciais para controle de fluxo."
      ],
      "metadata": {
        "id": "mxAbXoJv6yqi"
      }
    },
    {
      "cell_type": "markdown",
      "source": [
        "###Exemplo de Operadores Lógicos"
      ],
      "metadata": {
        "id": "qBvck_5j7Dm5"
      }
    },
    {
      "cell_type": "code",
      "source": [
        "idade = 18\n",
        "if idade >= 18 and idade < 60:\n",
        "    print(\"Você é um adulto.\")\n"
      ],
      "metadata": {
        "id": "wUrEx1Xk7E0z",
        "colab": {
          "base_uri": "https://localhost:8080/"
        },
        "outputId": "959223a6-a80f-4664-b2ce-540a93b6a2b8"
      },
      "execution_count": null,
      "outputs": [
        {
          "output_type": "stream",
          "name": "stdout",
          "text": [
            "Você é um adulto.\n"
          ]
        }
      ]
    },
    {
      "cell_type": "markdown",
      "source": [
        "###Exemplo de Operadores de Pertencimento"
      ],
      "metadata": {
        "id": "y4QiXEmR7HZQ"
      }
    },
    {
      "cell_type": "code",
      "source": [
        "frutas = [\"maçã\", \"banana\", \"laranja\"]\n",
        "if \"banana\" in frutas:\n",
        "    print(\"Banana está na lista de frutas.\")\n"
      ],
      "metadata": {
        "id": "MnPVTgjN7JlA",
        "colab": {
          "base_uri": "https://localhost:8080/"
        },
        "outputId": "59076d4d-5427-4372-ed0c-bcc738c9e558"
      },
      "execution_count": null,
      "outputs": [
        {
          "output_type": "stream",
          "name": "stdout",
          "text": [
            "Banana está na lista de frutas.\n"
          ]
        }
      ]
    },
    {
      "cell_type": "markdown",
      "source": [
        "##Estruturas de Controle (Loops)\n",
        "\n",
        "Uso de estruturas de controle (loops) como for e while para iteração e manipulação de dados."
      ],
      "metadata": {
        "id": "zXVAZ-9W7SEp"
      }
    },
    {
      "cell_type": "markdown",
      "source": [
        "###Exemplo de Loops"
      ],
      "metadata": {
        "id": "pVaodiSX7WU2"
      }
    },
    {
      "cell_type": "code",
      "source": [
        "frutas = [\"maçã\", \"banana\", \"laranja\"]\n",
        "# Loop for para iterar sobre uma lista\n",
        "for fruta in frutas:\n",
        "    print(fruta)\n",
        "\n",
        "# Loop while para contagem regressiva\n",
        "contador = 5\n",
        "while contador > 0:\n",
        "    print(contador)\n",
        "    contador -= 1\n"
      ],
      "metadata": {
        "id": "q34SHcCC7YoH",
        "colab": {
          "base_uri": "https://localhost:8080/"
        },
        "outputId": "b11d98aa-1ee8-46c3-d096-afc6d63f4129"
      },
      "execution_count": null,
      "outputs": [
        {
          "output_type": "stream",
          "name": "stdout",
          "text": [
            "maçã\n",
            "banana\n",
            "laranja\n",
            "5\n",
            "4\n",
            "3\n",
            "2\n",
            "1\n"
          ]
        }
      ]
    },
    {
      "cell_type": "markdown",
      "source": [
        "##Atividade Prática\n",
        "\n",
        "Escreva um programa Python que itere sobre uma lista de números, verificando se cada número é par ou ímpar, e os imprima classificados."
      ],
      "metadata": {
        "id": "ayO7ZgEY7dl2"
      }
    },
    {
      "cell_type": "code",
      "source": [
        "#espaço para a atividade prática"
      ],
      "metadata": {
        "id": "Dgd8Mdy-7gtW"
      },
      "execution_count": null,
      "outputs": []
    },
    {
      "cell_type": "markdown",
      "source": [
        "#Dia 3: Funções e Módulos em Python\n"
      ],
      "metadata": {
        "id": "8DJm8pI37oWF"
      }
    },
    {
      "cell_type": "markdown",
      "source": [
        "##Definição e Uso de Funções\n",
        "\n",
        "Funções em Python são blocos de código reutilizáveis. Elas são definidas usando a palavra-chave def."
      ],
      "metadata": {
        "id": "G_ynWimq7s9U"
      }
    },
    {
      "cell_type": "code",
      "source": [
        "def saudacao(nome):\n",
        "    \"\"\"Função que imprime uma saudação.\"\"\"\n",
        "    print(f\"Olá, {nome}!\")\n",
        "\n",
        "# Chamando a função\n",
        "saudacao(\"Maria\")\n"
      ],
      "metadata": {
        "id": "HMpZZfT27wt6",
        "colab": {
          "base_uri": "https://localhost:8080/"
        },
        "outputId": "faec024d-dae9-457b-ddba-438892414511"
      },
      "execution_count": null,
      "outputs": [
        {
          "output_type": "stream",
          "name": "stdout",
          "text": [
            "Olá, Maria!\n"
          ]
        }
      ]
    },
    {
      "cell_type": "markdown",
      "source": [
        "##Argumentos e Parâmetros de Função\n",
        "\n",
        "As funções podem aceitar argumentos, que são valores passados durante a chamada da função."
      ],
      "metadata": {
        "id": "x-hj_0Vh70KB"
      }
    },
    {
      "cell_type": "code",
      "source": [
        "def soma(a, b):\n",
        "    \"\"\"Função que retorna a soma de dois números.\"\"\"\n",
        "    return a + b\n",
        "\n",
        "resultado = soma(3, 5)\n",
        "print(resultado)\n"
      ],
      "metadata": {
        "id": "-mi-gQVA762L",
        "colab": {
          "base_uri": "https://localhost:8080/"
        },
        "outputId": "a054c0d9-b5e5-4f62-89c0-8e683fb41652"
      },
      "execution_count": null,
      "outputs": [
        {
          "output_type": "stream",
          "name": "stdout",
          "text": [
            "8\n"
          ]
        }
      ]
    },
    {
      "cell_type": "markdown",
      "source": [
        "##Retorno de Valores e Escopo de Variáveis\n",
        "\n",
        "O return é usado para retornar valores de uma função. Variáveis podem ter escopo local ou global."
      ],
      "metadata": {
        "id": "I6ESi33t79AQ"
      }
    },
    {
      "cell_type": "code",
      "source": [
        "def quadrado(numero):\n",
        "    \"\"\"Função que retorna o quadrado de um número.\"\"\"\n",
        "    resultado = numero ** 2\n",
        "    return resultado\n",
        "\n",
        "# Chamando a função\n",
        "res = quadrado(4)\n",
        "print(res)\n"
      ],
      "metadata": {
        "id": "NL6LN6p88AuV",
        "colab": {
          "base_uri": "https://localhost:8080/"
        },
        "outputId": "97ffc00f-e764-47d1-98e7-af2c692355a8"
      },
      "execution_count": null,
      "outputs": [
        {
          "output_type": "stream",
          "name": "stdout",
          "text": [
            "16\n"
          ]
        }
      ]
    },
    {
      "cell_type": "markdown",
      "source": [
        "##Importação e Uso de Módulos\n",
        "\n",
        "Módulos são arquivos Python que contêm funções e variáveis. Podemos importar e usar módulos em nossos programas."
      ],
      "metadata": {
        "id": "VKoZXkRK8Dr5"
      }
    },
    {
      "cell_type": "code",
      "source": [
        "# Importando o módulo 'math'\n",
        "import math\n",
        "\n",
        "# Usando a função 'sqrt' do módulo 'math'\n",
        "raiz_quadrada = math.sqrt(25)\n",
        "print(raiz_quadrada)\n"
      ],
      "metadata": {
        "id": "hyasM99h8Ggs",
        "colab": {
          "base_uri": "https://localhost:8080/"
        },
        "outputId": "feabfe48-78ed-4cc1-f5a5-d658859a0cb6"
      },
      "execution_count": null,
      "outputs": [
        {
          "output_type": "stream",
          "name": "stdout",
          "text": [
            "5.0\n"
          ]
        }
      ]
    },
    {
      "cell_type": "markdown",
      "source": [
        "##Atividade Prática\n",
        "\n",
        "Escreva um programa Python que define uma função para calcular a área de um círculo (usando math.pi) e a utiliza para calcular a área de dois círculos com diferentes raios."
      ],
      "metadata": {
        "id": "ird_Il1l8J5m"
      }
    },
    {
      "cell_type": "code",
      "source": [
        "#local reservado pra atividade"
      ],
      "metadata": {
        "id": "qQKoVBKN8Mrq"
      },
      "execution_count": null,
      "outputs": []
    },
    {
      "cell_type": "markdown",
      "source": [
        "#Dia 4: Tratamento de Exceções e Arquivos em Python"
      ],
      "metadata": {
        "id": "UKSDtyCO8SNc"
      }
    },
    {
      "cell_type": "markdown",
      "source": [
        "##Tratamento de Exceções\n",
        "\n",
        "Tratamento de exceções em Python é feito usando blocos try, except e, opcionalmente, finally."
      ],
      "metadata": {
        "id": "-QJvrBp58UZC"
      }
    },
    {
      "cell_type": "code",
      "source": [
        "try:\n",
        "    numero = int(input(\"Digite um número: \"))\n",
        "    resultado = 10 / numero\n",
        "    print(f\"Resultado: {resultado}\")\n",
        "except ZeroDivisionError:\n",
        "    print(\"Erro: Divisão por zero.\")\n",
        "except ValueError:\n",
        "    print(\"Erro: Valor inválido.\")\n",
        "finally:\n",
        "    print(\"Executando sempre, com ou sem exceção.\")\n"
      ],
      "metadata": {
        "id": "pPO5pJ4w8Wg5"
      },
      "execution_count": null,
      "outputs": []
    },
    {
      "cell_type": "markdown",
      "source": [
        "##Manipulação de Arquivos\n",
        "\n",
        "Manipulação de arquivos em Python inclui leitura, escrita e manipulação de dados."
      ],
      "metadata": {
        "id": "WbV3EREJ8YbR"
      }
    },
    {
      "cell_type": "code",
      "source": [
        "# Escrevendo em um arquivo\n",
        "with open(\"arquivo.txt\", \"w\") as arquivo:\n",
        "    arquivo.write(\"Olá, este é um arquivo de exemplo.\")\n",
        "\n",
        "# Lendo de um arquivo\n",
        "with open(\"arquivo.txt\", \"r\") as arquivo:\n",
        "    conteudo = arquivo.read()\n",
        "    print(conteudo)\n"
      ],
      "metadata": {
        "id": "EWI4HfOP8b6a",
        "colab": {
          "base_uri": "https://localhost:8080/"
        },
        "outputId": "6d3e732a-4f82-4eba-958c-c233811e9e4c"
      },
      "execution_count": null,
      "outputs": [
        {
          "output_type": "stream",
          "name": "stdout",
          "text": [
            "Olá, este é um arquivo de exemplo.\n"
          ]
        }
      ]
    },
    {
      "cell_type": "markdown",
      "source": [
        "##Contexto de Arquivos (With Statement)\n",
        "\n",
        "O uso de with garante que os recursos do arquivo são liberados corretamente após o uso."
      ],
      "metadata": {
        "id": "HniOosys8d1O"
      }
    },
    {
      "cell_type": "code",
      "source": [
        "with open(\"arquivo.txt\", \"r\") as arquivo:\n",
        "    linhas = arquivo.readlines()\n",
        "    for linha in linhas:\n",
        "        print(linha.strip())\n"
      ],
      "metadata": {
        "id": "0ZaHwXcT8fy2"
      },
      "execution_count": null,
      "outputs": []
    },
    {
      "cell_type": "markdown",
      "source": [
        "##Atividade Prática\n",
        "\n",
        "Escreva um programa Python que manipula um arquivo de texto. Leia o conteúdo do arquivo, faça algumas operações e escreva o resultado em outro arquivo."
      ],
      "metadata": {
        "id": "KIW0T-Ju8hiQ"
      }
    },
    {
      "cell_type": "code",
      "source": [
        "#local pra fazer a atividade"
      ],
      "metadata": {
        "id": "P9rZzO8o8ifa"
      },
      "execution_count": null,
      "outputs": []
    },
    {
      "cell_type": "markdown",
      "source": [
        "#Dia 5: Introdução à Programação Orientada a Objetos (POO)"
      ],
      "metadata": {
        "id": "Z_JJ4YeR8kTu"
      }
    },
    {
      "cell_type": "markdown",
      "source": [
        "##Conceitos Básicos de OOP\n",
        "\n",
        "Programação Orientada a Objetos (OOP) é um paradigma de programação baseado em objetos."
      ],
      "metadata": {
        "id": "N40WslrP8peF"
      }
    },
    {
      "cell_type": "markdown",
      "source": [
        "##Classes, Objetos, Atributos e Métodos\n",
        "\n",
        "Classe: Um modelo para criar objetos.\n",
        "\n",
        "Objeto: Uma instância de uma classe.\n",
        "\n",
        "Atributos: Características dos objetos (variáveis da classe).\n",
        "\n",
        "Métodos: Ações que os objetos podem realizar (funções da classe)."
      ],
      "metadata": {
        "id": "bIMgLcOt8rJI"
      }
    },
    {
      "cell_type": "code",
      "source": [
        "# Definindo uma classe 'Carro'\n",
        "class Carro:\n",
        "    def __init__(self, cor, modelo):\n",
        "        self.cor = cor\n",
        "        self.modelo = modelo\n",
        "\n",
        "    def dirigir(self):\n",
        "        print(f\"O carro {self.modelo} está em movimento.\")\n",
        "\n",
        "# Criando um objeto da classe 'Carro'\n",
        "carro1 = Carro(cor=\"vermelho\", modelo=\"Sedan\")\n",
        "carro1.dirigir()\n"
      ],
      "metadata": {
        "id": "Rwh1ZYIn8vJy",
        "colab": {
          "base_uri": "https://localhost:8080/"
        },
        "outputId": "5070317f-6d18-4d4c-be4c-d2c79680e061"
      },
      "execution_count": null,
      "outputs": [
        {
          "output_type": "stream",
          "name": "stdout",
          "text": [
            "O carro Sedan está em movimento.\n"
          ]
        }
      ]
    },
    {
      "cell_type": "markdown",
      "source": [
        "##Encapsulamento, Herança e Polimorfismo\n",
        "\n",
        "Encapsulamento: Ocultamento de detalhes de implementação.\n",
        "\n",
        "Herança: Criação de uma nova classe usando detalhes de uma classe existente.\n",
        "\n",
        "Polimorfismo: Diferentes classes podem ser usadas com a mesma interface."
      ],
      "metadata": {
        "id": "b4BixJgV8xsL"
      }
    },
    {
      "cell_type": "code",
      "source": [
        "# Exemplo de Herança e Polimorfismo\n",
        "class Animal:\n",
        "    def fazer_som(self):\n",
        "        pass\n",
        "\n",
        "class Cachorro(Animal):\n",
        "    def fazer_som(self):\n",
        "        print(\"Au au!\")\n",
        "\n",
        "class Gato(Animal):\n",
        "    def fazer_som(self):\n",
        "        print(\"Miau!\")\n",
        "\n",
        "# Polimorfismo\n",
        "animais = [Cachorro(), Gato()]\n",
        "for animal in animais:\n",
        "    animal.fazer_som()\n"
      ],
      "metadata": {
        "id": "TwTp47im8y3e",
        "colab": {
          "base_uri": "https://localhost:8080/"
        },
        "outputId": "69714a02-2bf9-4027-a7f1-196460a17a28"
      },
      "execution_count": null,
      "outputs": [
        {
          "output_type": "stream",
          "name": "stdout",
          "text": [
            "Au au!\n",
            "Miau!\n"
          ]
        }
      ]
    },
    {
      "cell_type": "markdown",
      "source": [
        "##Atividade Prática\n",
        "\n",
        "Crie um programa Python que modele um sistema de gerenciamento de contas bancárias usando conceitos de OOP. Implemente classes como ContaBancaria, ContaCorrente e ContaPoupanca. Adicione métodos para depósito, saque e consulta de saldo."
      ],
      "metadata": {
        "id": "HePY4KQR82Ve"
      }
    },
    {
      "cell_type": "code",
      "source": [
        "#local pra fazer atividade"
      ],
      "metadata": {
        "id": "C_DQUQ4M83cY"
      },
      "execution_count": null,
      "outputs": []
    },
    {
      "cell_type": "markdown",
      "source": [
        "#Gabarito das atividades práticas"
      ],
      "metadata": {
        "id": "043iICtM9o-7"
      }
    },
    {
      "cell_type": "markdown",
      "source": [
        "##Dia 2: Atividade Prática - Manipulação de Listas e Estruturas de Controle"
      ],
      "metadata": {
        "id": "Pe-WDMeJ9rw1"
      }
    },
    {
      "cell_type": "code",
      "source": [
        "# Atividade Prática: Classificação de Números\n",
        "\n",
        "# Criando uma lista de números\n",
        "numeros = [2, 7, 4, 1, 9, 5, 8]\n",
        "\n",
        "# Iterando sobre a lista e classificando os números como pares ou ímpares\n",
        "for numero in numeros:\n",
        "    if numero % 2 == 0:\n",
        "        print(f\"{numero} é um número par.\")\n",
        "    else:\n",
        "        print(f\"{numero} é um número ímpar.\")\n"
      ],
      "metadata": {
        "id": "UvJ0IsZw9uL3",
        "colab": {
          "base_uri": "https://localhost:8080/"
        },
        "outputId": "839528fd-6f6a-4480-ab70-0af7241793b1"
      },
      "execution_count": null,
      "outputs": [
        {
          "output_type": "stream",
          "name": "stdout",
          "text": [
            "2 é um número par.\n",
            "7 é um número ímpar.\n",
            "4 é um número par.\n",
            "1 é um número ímpar.\n",
            "9 é um número ímpar.\n",
            "5 é um número ímpar.\n",
            "8 é um número par.\n"
          ]
        }
      ]
    },
    {
      "cell_type": "markdown",
      "source": [
        "###Explicação:\n",
        "\n",
        "Criamos uma lista de números.\n",
        "\n",
        "Usamos um loop for para iterar sobre cada número na lista.\n",
        "\n",
        "Utilizamos a estrutura de controle if para verificar se o número é par ou ímpar.\n",
        "\n",
        "Imprimimos a classificação na tela.\n"
      ],
      "metadata": {
        "id": "dX6qyw3a9wd7"
      }
    },
    {
      "cell_type": "markdown",
      "source": [
        "##Dia 3: Atividade Prática - Funções e Módulos"
      ],
      "metadata": {
        "id": "K4i-L2KE96Hw"
      }
    },
    {
      "cell_type": "code",
      "source": [
        "# Atividade Prática: Cálculo de Área de Círculo\n",
        "\n",
        "import math\n",
        "\n",
        "# Definindo uma função para calcular a área de um círculo\n",
        "def calcular_area_circulo(raio):\n",
        "    return math.pi * (raio ** 2)\n",
        "\n",
        "# Calculando a área de dois círculos com diferentes raios\n",
        "raio1 = 5\n",
        "raio2 = 8\n",
        "\n",
        "area1 = calcular_area_circulo(raio1)\n",
        "area2 = calcular_area_circulo(raio2)\n",
        "\n",
        "print(f\"A área do círculo com raio {raio1} é {area1:.2f}.\")\n",
        "print(f\"A área do círculo com raio {raio2} é {area2:.2f}.\")\n"
      ],
      "metadata": {
        "id": "uWBKmTEe-AUx",
        "colab": {
          "base_uri": "https://localhost:8080/"
        },
        "outputId": "80db1ac4-01af-4d35-c46e-7e1bd2420429"
      },
      "execution_count": null,
      "outputs": [
        {
          "output_type": "stream",
          "name": "stdout",
          "text": [
            "A área do círculo com raio 5 é 78.54.\n",
            "A área do círculo com raio 8 é 201.06.\n"
          ]
        }
      ]
    },
    {
      "cell_type": "markdown",
      "source": [
        "###Explicação:\n",
        "\n",
        "Importamos o módulo math para utilizar a constante pi.\n",
        "\n",
        "Definimos uma função calcular_area_circulo que recebe o raio como parâmetro e retorna a área do círculo.\n",
        "\n",
        "Calculamos e imprimimos a área de dois círculos com diferentes raios."
      ],
      "metadata": {
        "id": "YbYT2Xkf-DZn"
      }
    },
    {
      "cell_type": "markdown",
      "source": [
        "##Dia 4: Atividade Prática - Manipulação de Exceções e Arquivos"
      ],
      "metadata": {
        "id": "wgd7h3_p-JfP"
      }
    },
    {
      "cell_type": "code",
      "source": [
        "# Atividade Prática: Manipulação de Arquivos\n",
        "\n",
        "# Tratamento de exceções ao tentar ler um arquivo\n",
        "try:\n",
        "    with open(\"arquivo_inexistente.txt\", \"r\") as arquivo:\n",
        "        conteudo = arquivo.read()\n",
        "        print(conteudo)\n",
        "except FileNotFoundError:\n",
        "    print(\"Erro: O arquivo não foi encontrado.\")\n",
        "except Exception as e:\n",
        "    print(f\"Erro desconhecido: {e}\")\n",
        "finally:\n",
        "    print(\"Fim do programa.\")\n"
      ],
      "metadata": {
        "id": "WG_GTZJN-Mba",
        "colab": {
          "base_uri": "https://localhost:8080/"
        },
        "outputId": "5f09b576-17b9-47dc-a985-f825f6654b65"
      },
      "execution_count": null,
      "outputs": [
        {
          "output_type": "stream",
          "name": "stdout",
          "text": [
            "Erro: O arquivo não foi encontrado.\n",
            "Fim do programa.\n"
          ]
        }
      ]
    },
    {
      "cell_type": "markdown",
      "source": [
        "###Explicação:\n",
        "\n",
        "Tentamos abrir e ler o conteúdo de um arquivo que não existe.\n",
        "\n",
        "Utilizamos a estrutura try, except para tratar a exceção FileNotFoundError (arquivo não encontrado).\n",
        "\n",
        "O bloco finally é sempre executado, independentemente de ocorrer uma exceção ou não."
      ],
      "metadata": {
        "id": "iTsJ2wQq-OYp"
      }
    },
    {
      "cell_type": "markdown",
      "source": [
        "##Dia 5: Atividade Prática - Programação Orientada a Objetos (OOP)"
      ],
      "metadata": {
        "id": "9vy2XdC1-SNr"
      }
    },
    {
      "cell_type": "code",
      "source": [
        "# Atividade Prática: Sistema de Contas Bancárias\n",
        "\n",
        "# Definindo a classe base 'ContaBancaria'\n",
        "class ContaBancaria:\n",
        "    def __init__(self, titular, saldo=0.0):\n",
        "        self.titular = titular\n",
        "        self.saldo = saldo\n",
        "\n",
        "    def depositar(self, valor):\n",
        "        self.saldo += valor\n",
        "        print(f\"Depósito de R${valor} realizado. Novo saldo: R${self.saldo:.2f}\")\n",
        "\n",
        "    def sacar(self, valor):\n",
        "        if valor <= self.saldo:\n",
        "            self.saldo -= valor\n",
        "            print(f\"Saque de R${valor} realizado. Novo saldo: R${self.saldo:.2f}\")\n",
        "        else:\n",
        "            print(\"Saldo insuficiente.\")\n",
        "\n",
        "# Criando uma instância da classe 'ContaBancaria'\n",
        "minha_conta = ContaBancaria(titular=\"João\")\n",
        "\n",
        "# Realizando operações na conta\n",
        "minha_conta.depositar(1000.0)\n",
        "minha_conta.sacar(500.0)\n"
      ],
      "metadata": {
        "id": "FVz5qozZ-UAR",
        "colab": {
          "base_uri": "https://localhost:8080/"
        },
        "outputId": "28626653-0309-48ff-913a-8f2798f9c5c6"
      },
      "execution_count": null,
      "outputs": [
        {
          "output_type": "stream",
          "name": "stdout",
          "text": [
            "Depósito de R$1000.0 realizado. Novo saldo: R$1000.00\n",
            "Saque de R$500.0 realizado. Novo saldo: R$500.00\n"
          ]
        }
      ]
    },
    {
      "cell_type": "markdown",
      "source": [
        "###Explicação:\n",
        "\n",
        "Criamos a classe base ContaBancaria com métodos depositar e sacar.\n",
        "\n",
        "Instanciamos um objeto minha_conta da classe ContaBancaria.\n",
        "\n",
        "Realizamos um depósito e um saque na conta, com feedback sobre o saldo resultante."
      ],
      "metadata": {
        "id": "RoDAKNyA-WPH"
      }
    }
  ]
}